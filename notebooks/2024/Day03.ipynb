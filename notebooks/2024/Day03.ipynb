{
 "cells": [
  {
   "metadata": {},
   "cell_type": "markdown",
   "source": "## Input"
  },
  {
   "metadata": {
    "ExecuteTime": {
     "end_time": "2024-12-03T12:27:52.501600200Z",
     "start_time": "2024-12-03T12:27:52.266599200Z"
    }
   },
   "cell_type": "code",
   "source": [
    "import kotlin.io.path.Path\n",
    "import kotlin.io.path.readText\n",
    "\n",
    "val input = Path(\"Day03.txt\")\n",
    "    .readText()"
   ],
   "outputs": [],
   "execution_count": 2
  },
  {
   "metadata": {},
   "cell_type": "markdown",
   "source": "## mul parser"
  },
  {
   "metadata": {
    "ExecuteTime": {
     "end_time": "2024-12-03T12:27:52.840598200Z",
     "start_time": "2024-12-03T12:27:52.511601500Z"
    }
   },
   "cell_type": "code",
   "source": [
    "fun parseMultiplication(str: String): Int = \n",
    "    str.trim { !it.isDigit() && it != ',' }\n",
    "        .split(\",\")\n",
    "        .map { it.toInt() }\n",
    "        .fold(1) { acc, num -> acc * num}"
   ],
   "outputs": [],
   "execution_count": 3
  },
  {
   "metadata": {},
   "cell_type": "markdown",
   "source": "## Part 1"
  },
  {
   "metadata": {
    "ExecuteTime": {
     "end_time": "2024-12-03T12:27:53.132599500Z",
     "start_time": "2024-12-03T12:27:52.858598200Z"
    }
   },
   "cell_type": "code",
   "source": [
    "input.let {\n",
    "        Regex(\"\"\"mul\\([0-9]+,[0-9]+\\)\"\"\".trimIndent()).findAll(it)\n",
    "    }.sumOf {\n",
    "        parseMultiplication(it.value)\n",
    "    }"
   ],
   "outputs": [
    {
     "data": {
      "text/plain": [
       "190604937"
      ]
     },
     "execution_count": 4,
     "metadata": {},
     "output_type": "execute_result"
    }
   ],
   "execution_count": 4
  },
  {
   "metadata": {},
   "cell_type": "markdown",
   "source": "## Part 2"
  },
  {
   "metadata": {
    "ExecuteTime": {
     "end_time": "2024-12-03T12:27:53.428598400Z",
     "start_time": "2024-12-03T12:27:53.228599600Z"
    }
   },
   "cell_type": "code",
   "source": [
    "var enabled = true\n",
    "input.let {\n",
    "    Regex(\"\"\"(mul\\([0-9]+,[0-9]+\\)|do[n't]*\\(\\))\"\"\".trimIndent()).findAll(it)\n",
    "}.sumOf {\n",
    "    when {\n",
    "        it.value.startsWith(\"mul\") -> if (enabled) parseMultiplication(it.value) else 0\n",
    "        it.value == \"don't()\" -> { enabled = false; 0}\n",
    "        it.value == \"do()\" -> { enabled = true; 0 }\n",
    "        else -> 0\n",
    "    }\n",
    "}"
   ],
   "outputs": [
    {
     "data": {
      "text/plain": [
       "82857512"
      ]
     },
     "execution_count": 5,
     "metadata": {},
     "output_type": "execute_result"
    }
   ],
   "execution_count": 5
  }
 ],
 "metadata": {
  "kernelspec": {
   "display_name": "Kotlin",
   "language": "kotlin",
   "name": "kotlin"
  },
  "language_info": {
   "name": "kotlin",
   "version": "1.9.23",
   "mimetype": "text/x-kotlin",
   "file_extension": ".kt",
   "pygments_lexer": "kotlin",
   "codemirror_mode": "text/x-kotlin",
   "nbconvert_exporter": ""
  }
 },
 "nbformat": 4,
 "nbformat_minor": 0
}
