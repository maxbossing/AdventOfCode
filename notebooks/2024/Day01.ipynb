{
 "cells": [
  {
   "metadata": {},
   "cell_type": "markdown",
   "source": "# Get Input"
  },
  {
   "metadata": {
    "ExecuteTime": {
     "end_time": "2024-12-01T16:49:18.421187500Z",
     "start_time": "2024-12-01T16:49:18.159189Z"
    }
   },
   "cell_type": "code",
   "source": [
    "import kotlin.io.path.Path\n",
    "import kotlin.io.path.readLines\n",
    "\n",
    "val list1 = mutableListOf<Int>()\n",
    "val list2 = mutableListOf<Int>()\n",
    "\n",
    "val input = Path(\"Day01.txt\")\n",
    "    .readLines()\n",
    "    .map {\n",
    "        it.split(\"   \")\n",
    "            .let {\n",
    "                it[0].toInt() to it[1].toInt()\n",
    "            }\n",
    "    }.forEach { \n",
    "        list1.add(it.first)\n",
    "        list2.add(it.second)\n",
    "    }"
   ],
   "outputs": [],
   "execution_count": 3
  },
  {
   "metadata": {},
   "cell_type": "markdown",
   "source": "# Prepare Data"
  },
  {
   "metadata": {
    "ExecuteTime": {
     "end_time": "2024-12-01T16:49:18.653191600Z",
     "start_time": "2024-12-01T16:49:18.429191Z"
    }
   },
   "cell_type": "code",
   "source": "val pairs = list1.sorted().zip(list2.sorted())",
   "outputs": [],
   "execution_count": 4
  },
  {
   "metadata": {},
   "cell_type": "markdown",
   "source": "# Part 1"
  },
  {
   "metadata": {
    "ExecuteTime": {
     "end_time": "2024-12-01T16:49:18.916707900Z",
     "start_time": "2024-12-01T16:49:18.666189600Z"
    }
   },
   "cell_type": "code",
   "source": "pairs.sumOf { abs(it.first - it.second) }",
   "outputs": [
    {
     "name": "stdout",
     "output_type": "stream",
     "text": [
      "1579939\r\n"
     ]
    }
   ],
   "execution_count": 5
  },
  {
   "metadata": {},
   "cell_type": "markdown",
   "source": "# Part 2"
  },
  {
   "metadata": {
    "ExecuteTime": {
     "end_time": "2024-12-01T16:49:19.218707600Z",
     "start_time": "2024-12-01T16:49:18.994707200Z"
    }
   },
   "cell_type": "code",
   "source": "list1.sumOf { it * list2.count { p -> p == it } }",
   "outputs": [
    {
     "name": "stdout",
     "output_type": "stream",
     "text": [
      "20351745\r\n"
     ]
    }
   ],
   "execution_count": 6
  }
 ],
 "metadata": {
  "kernelspec": {
   "display_name": "Kotlin",
   "language": "kotlin",
   "name": "kotlin"
  },
  "language_info": {
   "name": "kotlin",
   "version": "1.9.23",
   "mimetype": "text/x-kotlin",
   "file_extension": ".kt",
   "pygments_lexer": "kotlin",
   "codemirror_mode": "text/x-kotlin",
   "nbconvert_exporter": ""
  }
 },
 "nbformat": 4,
 "nbformat_minor": 0
}
