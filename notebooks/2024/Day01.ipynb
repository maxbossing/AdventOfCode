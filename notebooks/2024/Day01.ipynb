{
 "cells": [
  {
   "metadata": {},
   "cell_type": "markdown",
   "source": "# Get Input"
  },
  {
   "metadata": {
    "ExecuteTime": {
     "end_time": "2024-12-01T10:53:26.245049100Z",
     "start_time": "2024-12-01T10:53:26.024169700Z"
    }
   },
   "cell_type": "code",
   "source": [
    "import kotlin.io.path.Path\n",
    "import kotlin.io.path.readLines\n",
    "\n",
    "val list1 = mutableListOf<Int>()\n",
    "val list2 = mutableListOf<Int>()\n",
    "\n",
    "val input = Path(\"2024/Day01.txt\")\n",
    "    .readLines()\n",
    "    .map {\n",
    "        it.split(\"   \")\n",
    "            .let {\n",
    "                it[0].toInt() to it[1].toInt()\n",
    "            }\n",
    "    }.forEach { \n",
    "        list1.add(it.first)\n",
    "        list2.add(it.second)\n",
    "    }"
   ],
   "outputs": [],
   "execution_count": 34
  },
  {
   "metadata": {},
   "cell_type": "markdown",
   "source": "# Prepare Data"
  },
  {
   "metadata": {
    "ExecuteTime": {
     "end_time": "2024-12-01T10:53:26.377048900Z",
     "start_time": "2024-12-01T10:53:26.293049300Z"
    }
   },
   "cell_type": "code",
   "source": "val pairs = list1.sorted().zip(list2.sorted())",
   "outputs": [],
   "execution_count": 35
  },
  {
   "metadata": {},
   "cell_type": "markdown",
   "source": "# Part 1"
  },
  {
   "metadata": {
    "ExecuteTime": {
     "end_time": "2024-12-01T10:53:26.507050800Z",
     "start_time": "2024-12-01T10:53:26.408048800Z"
    }
   },
   "cell_type": "code",
   "source": "println(pairs.sumOf { abs(it.first - it.second) })",
   "outputs": [
    {
     "name": "stdout",
     "output_type": "stream",
     "text": [
      "1579939\r\n"
     ]
    }
   ],
   "execution_count": 36
  },
  {
   "metadata": {},
   "cell_type": "markdown",
   "source": "# Part 2"
  },
  {
   "metadata": {
    "ExecuteTime": {
     "end_time": "2024-12-01T10:53:26.699719100Z",
     "start_time": "2024-12-01T10:53:26.603584600Z"
    }
   },
   "cell_type": "code",
   "source": "println(list1.sumOf { it * list2.count { p -> p == it } })",
   "outputs": [
    {
     "name": "stdout",
     "output_type": "stream",
     "text": [
      "20351745\r\n"
     ]
    }
   ],
   "execution_count": 37
  }
 ],
 "metadata": {
  "kernelspec": {
   "display_name": "Kotlin",
   "language": "kotlin",
   "name": "kotlin"
  },
  "language_info": {
   "name": "kotlin",
   "version": "1.9.23",
   "mimetype": "text/x-kotlin",
   "file_extension": ".kt",
   "pygments_lexer": "kotlin",
   "codemirror_mode": "text/x-kotlin",
   "nbconvert_exporter": ""
  }
 },
 "nbformat": 4,
 "nbformat_minor": 0
}
