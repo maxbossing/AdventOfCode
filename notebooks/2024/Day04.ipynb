{
 "cells": [
  {
   "cell_type": "code",
   "metadata": {
    "collapsed": true,
    "ExecuteTime": {
     "end_time": "2024-12-04T20:10:42.315569900Z",
     "start_time": "2024-12-04T20:10:42.274894100Z"
    }
   },
   "source": [
    "import kotlin.io.path.Path\n",
    "import kotlin.io.path.readText\n",
    "\n",
    "val input = Path(\"Day04.txt\").readText()"
   ],
   "outputs": [],
   "execution_count": 23
  },
  {
   "metadata": {
    "ExecuteTime": {
     "end_time": "2024-12-04T20:10:42.860562300Z",
     "start_time": "2024-12-04T20:10:42.348563900Z"
    }
   },
   "cell_type": "code",
   "source": [
    "inline fun <reified T> Array<Array<T>>.transpose(): Array<Array<T>> = Array(this[0].size) { i -> Array(this.size) { j -> this[j][i] } }\n",
    "inline fun <reified T> Array<Array<T>>.diagonalTranspose(): Array<Array<T>> {\n",
    "    val rows = size\n",
    "    val cols = this[0].size\n",
    "    val diagonals = mutableListOf<MutableList<T>>()\n",
    "\n",
    "    for (col in 0 until cols) {\n",
    "        val diagonal = mutableListOf<T>()\n",
    "        var i = 0\n",
    "        var j = col\n",
    "        while (i < rows && j >= 0) {\n",
    "            diagonal.add(this[i][j])\n",
    "            i++\n",
    "            j--\n",
    "        }\n",
    "        diagonals.add(diagonal)\n",
    "    }\n",
    "    for (row in 1 until rows) {\n",
    "        val diagonal = mutableListOf<T>()\n",
    "        var i = row\n",
    "        var j = cols - 1\n",
    "        while (i < rows && j >= 0) {\n",
    "            diagonal.add(this[i][j])\n",
    "            i++\n",
    "            j--\n",
    "        }\n",
    "        diagonals.add(diagonal)\n",
    "    }\n",
    "\n",
    "    return diagonals.map { it.toTypedArray() }.toTypedArray()\n",
    "}\n",
    "inline fun <reified T> Array<Array<T>>.antiDiagonalTranspose(): Array<Array<T>> {\n",
    "    val rows = this.size\n",
    "    val cols = this[0].size\n",
    "    val diagonals = mutableListOf<MutableList<T>>()\n",
    "\n",
    "    for (col in cols - 1 downTo 0) {\n",
    "        val diagonal = mutableListOf<T>()\n",
    "        var i = 0\n",
    "        var j = col\n",
    "        while (i < rows && j < cols) {\n",
    "            diagonal.add(this[i][j])\n",
    "            i++\n",
    "            j++\n",
    "        }\n",
    "        diagonals.add(diagonal)\n",
    "    }\n",
    "\n",
    "    for (row in 1 until rows) {\n",
    "        val diagonal = mutableListOf<T>()\n",
    "        var i = row\n",
    "        var j = 0\n",
    "        while (i < rows && j < cols) {\n",
    "            diagonal.add(this[i][j])\n",
    "            i++\n",
    "            j++\n",
    "        }\n",
    "        diagonals.add(diagonal)\n",
    "    }\n",
    "\n",
    "    return diagonals.map { it.toTypedArray() }.toTypedArray()\n",
    "}\n",
    "\n",
    "val re = Regex(\"(?=(XMAS|SAMX))\")\n",
    "val horizontal = input.lines()\n",
    "val vertical = input.lines()\n",
    "    .map { it.toCharArray().toTypedArray() }\n",
    "    .toTypedArray()\n",
    "    .transpose()\n",
    "    .map { it.toCharArray().concatToString() }\n",
    "val diagonalLtoR = input.lines()\n",
    "    .map { it.toCharArray().toTypedArray() }\n",
    "    .toTypedArray()\n",
    "    .diagonalTranspose()\n",
    "    .map { it.toCharArray().concatToString() }\n",
    "val diagonalRtoL = input.lines()\n",
    "    .map { it.toCharArray().toTypedArray() }\n",
    "    .toTypedArray()\n",
    "    .antiDiagonalTranspose()\n",
    "    .map { it.toCharArray().concatToString() }\n",
    "\n",
    "horizontal.sumOf { re.findAll(it).count() } +\n",
    "vertical.sumOf { re.findAll(it).count() } +\n",
    "diagonalLtoR.sumOf { re.findAll(it).count() } +\n",
    "diagonalRtoL.sumOf { re.findAll(it).count() }\n"
   ],
   "outputs": [
    {
     "data": {
      "text/plain": [
       "2583"
      ]
     },
     "execution_count": 24,
     "metadata": {},
     "output_type": "execute_result"
    }
   ],
   "execution_count": 24
  },
  {
   "metadata": {
    "ExecuteTime": {
     "end_time": "2024-12-04T20:10:43.036562500Z",
     "start_time": "2024-12-04T20:10:42.893563200Z"
    }
   },
   "cell_type": "code",
   "source": [
    "val lines = input.lines()\n",
    "var result = 0\n",
    "(1..lines.size - 2).forEach { i ->\n",
    "    (1..lines[i].length - 2).forEach { j ->\n",
    "        if (lines[i][j] == 'A') {\n",
    "            if ((lines[i-1][j-1] == 'S' && lines[i+1][j+1] == 'M') || (lines[i-1][j-1] == 'M' && lines[i+1][j+1] == 'S')) {\n",
    "                if ((lines[i+1][j-1] == 'S' && lines[i-1][j+1] == 'M') || (lines[i+1][j-1] == 'M' && lines[i-1][j+1] == 'S')) {\n",
    "                    result++          \n",
    "                }\n",
    "            }\n",
    "        }\n",
    "    }\n",
    "}\n",
    "result\n"
   ],
   "outputs": [
    {
     "data": {
      "text/plain": [
       "1978"
      ]
     },
     "execution_count": 25,
     "metadata": {},
     "output_type": "execute_result"
    }
   ],
   "execution_count": 25
  },
  {
   "metadata": {
    "ExecuteTime": {
     "end_time": "2024-12-04T20:10:43.067562600Z",
     "start_time": "2024-12-04T20:10:43.064562800Z"
    }
   },
   "cell_type": "code",
   "source": "",
   "outputs": [],
   "execution_count": null
  }
 ],
 "metadata": {
  "kernelspec": {
   "display_name": "Kotlin",
   "language": "kotlin",
   "name": "kotlin"
  },
  "language_info": {
   "name": "kotlin",
   "version": "1.9.23",
   "mimetype": "text/x-kotlin",
   "file_extension": ".kt",
   "pygments_lexer": "kotlin",
   "codemirror_mode": "text/x-kotlin",
   "nbconvert_exporter": ""
  }
 },
 "nbformat": 4,
 "nbformat_minor": 0
}
