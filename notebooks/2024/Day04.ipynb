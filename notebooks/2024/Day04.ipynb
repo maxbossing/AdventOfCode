{
 "cells": [
  {
   "cell_type": "code",
   "metadata": {
    "collapsed": true,
    "ExecuteTime": {
     "end_time": "2024-12-04T20:10:42.315569900Z",
     "start_time": "2024-12-04T20:10:42.274894100Z"
    }
   },
   "source": [
    "import kotlin.io.path.Path\n",
    "import kotlin.io.path.readText\n",
    "\n",
    "val input = Path(\"Day04.txt\").readText()"
   ],
   "outputs": [],
   "execution_count": 23
  },
  {
   "metadata": {
    "ExecuteTime": {
     "end_time": "2024-12-04T20:35:44.179409700Z",
     "start_time": "2024-12-04T20:35:43.517413200Z"
    }
   },
   "cell_type": "code",
   "source": [
    "inline fun <reified T> List<List<T>>.transpose(): List<List<T>> = List(this[0].size) { i -> List(this.size) { j -> this[j][i] } }\n",
    "inline fun <reified T> List<List<T>>.diagonalTranspose(): List<List<T>> {\n",
    "    val rows = this.size\n",
    "    val cols = this.first().size\n",
    "\n",
    "    return (0 until cols).map { col ->\n",
    "        generateSequence(0 to col) { (i, j) -> (i + 1) to (j - 1) }\n",
    "            .takeWhile { (i, j) -> i < rows && j >= 0 }\n",
    "            .map { (i, j) -> this[i][j] }\n",
    "            .toList()\n",
    "    } + (1 until rows).map { row ->\n",
    "        generateSequence(row to cols - 1) { (i, j) -> (i + 1) to (j - 1) }\n",
    "            .takeWhile { (i, j) -> i < rows && j >= 0 }\n",
    "            .map { (i, j) -> this[i][j] }\n",
    "            .toList()\n",
    "    }\n",
    "}\n",
    "inline fun <reified T> List<List<T>>.antiDiagonalTranspose(): List<List<T>> {\n",
    "    val rows = this.size\n",
    "    val cols = this.first().size\n",
    "\n",
    "    return (cols - 1 downTo 0).map { col ->\n",
    "        generateSequence(0 to col) { (i, j) -> (i + 1) to (j + 1) }\n",
    "            .takeWhile { (i, j) -> i < rows && j < cols }\n",
    "            .map { (i, j) -> this[i][j] }\n",
    "            .toList()\n",
    "    } + (1 until rows).map { row ->\n",
    "        generateSequence(row to 0) { (i, j) -> (i + 1) to (j + 1) }\n",
    "            .takeWhile { (i, j) -> i < rows && j < cols }\n",
    "            .map { (i, j) -> this[i][j] }\n",
    "            .toList()\n",
    "    }\n",
    "}\n",
    "\n",
    "val re = Regex(\"(?=(XMAS|SAMX))\")\n",
    "\n",
    "val horizontal = input.lines()\n",
    "\n",
    "val vertical = input.lines()\n",
    "    .map { it.toList() }\n",
    "    .transpose()\n",
    "    .map { it.joinToString { \"\" } }\n",
    "\n",
    "val diagonalLtoR = input.lines()\n",
    "    .map { it.toList() }\n",
    "    .diagonalTranspose()\n",
    "    .map { it.joinToString { \"\" } }\n",
    "\n",
    "val diagonalRtoL = input.lines()\n",
    "    .map { it.toList() }\n",
    "    .antiDiagonalTranspose()\n",
    "    .map { it.joinToString { \"\" } }\n",
    "\n",
    "horizontal.sumOf { re.findAll(it).count() } +\n",
    "vertical.sumOf { re.findAll(it).count() } +\n",
    "diagonalLtoR.sumOf { re.findAll(it).count() } +\n",
    "diagonalRtoL.sumOf { re.findAll(it).count() }\n"
   ],
   "outputs": [
    {
     "data": {
      "text/plain": [
       "2583"
      ]
     },
     "execution_count": 31,
     "metadata": {},
     "output_type": "execute_result"
    }
   ],
   "execution_count": 31
  },
  {
   "metadata": {
    "ExecuteTime": {
     "end_time": "2024-12-04T20:28:34.417223900Z",
     "start_time": "2024-12-04T20:28:34.219223600Z"
    }
   },
   "cell_type": "code",
   "source": [
    "val lines = input.lines()\n",
    "var result = 0\n",
    "(1..lines.size - 2).forEach { i ->\n",
    "    (1..lines[i].length - 2).forEach inner@{ j ->\n",
    "        if (lines[i][j] != 'A') return@inner\n",
    "        if (!((lines[i - 1][j - 1] == 'S' && lines[i + 1][j + 1] == 'M') || (lines[i - 1][j - 1] == 'M' && lines[i + 1][j + 1] == 'S'))) return@inner\n",
    "        if (!((lines[i + 1][j - 1] == 'S' && lines[i - 1][j + 1] == 'M') || (lines[i + 1][j - 1] == 'M' && lines[i - 1][j + 1] == 'S'))) return@inner\n",
    "        result++\n",
    "    }\n",
    "}\n",
    "result\n"
   ],
   "outputs": [
    {
     "data": {
      "text/plain": [
       "1978"
      ]
     },
     "execution_count": 27,
     "metadata": {},
     "output_type": "execute_result"
    }
   ],
   "execution_count": 27
  },
  {
   "metadata": {
    "ExecuteTime": {
     "end_time": "2024-12-04T20:10:43.067562600Z",
     "start_time": "2024-12-04T20:10:43.064562800Z"
    }
   },
   "cell_type": "code",
   "source": "",
   "outputs": [],
   "execution_count": null
  }
 ],
 "metadata": {
  "kernelspec": {
   "display_name": "Kotlin",
   "language": "kotlin",
   "name": "kotlin"
  },
  "language_info": {
   "name": "kotlin",
   "version": "1.9.23",
   "mimetype": "text/x-kotlin",
   "file_extension": ".kt",
   "pygments_lexer": "kotlin",
   "codemirror_mode": "text/x-kotlin",
   "nbconvert_exporter": ""
  }
 },
 "nbformat": 4,
 "nbformat_minor": 0
}
