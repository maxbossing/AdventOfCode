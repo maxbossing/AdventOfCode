{
 "cells": [
  {
   "metadata": {},
   "cell_type": "markdown",
   "source": "# Get Input"
  },
  {
   "metadata": {
    "ExecuteTime": {
     "end_time": "2024-12-02T19:48:39.848731Z",
     "start_time": "2024-12-02T19:48:39.669724600Z"
    }
   },
   "cell_type": "code",
   "source": [
    "import kotlin.io.path.Path\n",
    "import kotlin.io.path.readLines\n",
    "import kotlin.io.path.readText\n",
    "\n",
    "val list1 = mutableListOf<Int>()\n",
    "val list2 = mutableListOf<Int>()\n",
    "\n",
    "val input = Path(\"Day02.txt\")\n",
    "    .readLines()\n",
    "    .map {\n",
    "        it.split(\" \").map { it.toInt() }\n",
    "    }\n"
   ],
   "outputs": [],
   "execution_count": 21
  },
  {
   "metadata": {
    "ExecuteTime": {
     "end_time": "2024-12-02T19:48:40.158724300Z",
     "start_time": "2024-12-02T19:48:39.860725400Z"
    }
   },
   "cell_type": "code",
   "source": [
    "input.count { \n",
    "    it.windowed(2).map { (current, next) ->\n",
    "        0 < abs(current - next) <= 3 && current < next\n",
    "    }.all { it } ||  it.windowed(2).map { (current, next) ->\n",
    "        0 < abs(current - next) <= 3 && current > next\n",
    "    }.all { it }\n",
    "}"
   ],
   "outputs": [
    {
     "data": {
      "text/plain": [
       "306"
      ]
     },
     "execution_count": 22,
     "metadata": {},
     "output_type": "execute_result"
    }
   ],
   "execution_count": 22
  },
  {
   "metadata": {
    "ExecuteTime": {
     "end_time": "2024-12-02T19:59:42.595027600Z",
     "start_time": "2024-12-02T19:59:42.357343300Z"
    }
   },
   "cell_type": "code",
   "source": [
    "inline fun < reified T> List<T>.removeAt(i: Int) = filterIndexed { index, _ -> index != i }\n",
    "\n",
    "input.count { l ->\n",
    "    (0..l.size-1).any { i ->\n",
    "        l.removeAt(i).let { it ->\n",
    "            it.windowed(2).map { (current, next) ->\n",
    "                0 < abs(current - next) <= 3 && current < next\n",
    "            }.all { it } ||  it.windowed(2).map { (current, next) ->\n",
    "                0 < abs(current - next) <= 3 && current > next\n",
    "            }.all { it }\n",
    "        }\n",
    "    }\n",
    "}"
   ],
   "outputs": [
    {
     "data": {
      "text/plain": [
       "366"
      ]
     },
     "execution_count": 25,
     "metadata": {},
     "output_type": "execute_result"
    }
   ],
   "execution_count": 25
  }
 ],
 "metadata": {
  "kernelspec": {
   "display_name": "Kotlin",
   "language": "kotlin",
   "name": "kotlin"
  },
  "language_info": {
   "name": "kotlin",
   "version": "1.9.23",
   "mimetype": "text/x-kotlin",
   "file_extension": ".kt",
   "pygments_lexer": "kotlin",
   "codemirror_mode": "text/x-kotlin",
   "nbconvert_exporter": ""
  }
 },
 "nbformat": 4,
 "nbformat_minor": 0
}
